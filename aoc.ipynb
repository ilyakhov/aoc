{
 "cells": [
  {
   "cell_type": "raw",
   "id": "96f30090",
   "metadata": {},
   "source": [
    "https://adventofcode.com/"
   ]
  },
  {
   "cell_type": "markdown",
   "id": "b2b67be5",
   "metadata": {},
   "source": [
    "# task1"
   ]
  },
  {
   "cell_type": "code",
   "execution_count": 4,
   "id": "1445cba8",
   "metadata": {},
   "outputs": [],
   "source": [
    "from pathlib import Path\n",
    "\n",
    "input_path = \"aoc_task1_input.txt\"\n",
    "\n",
    "def solution1(path):\n",
    "    max_sum = -1\n",
    "    buffer = []\n",
    "    with open(path) as inp:\n",
    "        for line in inp:\n",
    "            if len(line.strip()) == 0:\n",
    "                max_sum = max(max_sum, sum(buffer))\n",
    "                buffer = []\n",
    "            else:\n",
    "                buffer.append(int(line.strip()))\n",
    "    \n",
    "    if buffer:\n",
    "        max_sum = max(max_sum, sum(buffer))\n",
    "    \n",
    "    return max_sum"
   ]
  },
  {
   "cell_type": "code",
   "execution_count": 5,
   "id": "2e58fb8c",
   "metadata": {},
   "outputs": [
    {
     "data": {
      "text/plain": [
       "67658"
      ]
     },
     "execution_count": 5,
     "metadata": {},
     "output_type": "execute_result"
    }
   ],
   "source": [
    "solution1(input_path)"
   ]
  },
  {
   "cell_type": "code",
   "execution_count": 29,
   "id": "abfd4006",
   "metadata": {},
   "outputs": [],
   "source": [
    "def solution1b(path):    \n",
    "    def update_maxs(s, max1, max2, max3):\n",
    "        if s > max1:\n",
    "            if max2 > max3:\n",
    "                max3 = max2\n",
    "            if max1 > max2:\n",
    "                max2 = max1\n",
    "            max1 = s\n",
    "        elif s > max2:\n",
    "            if max2 > max3:\n",
    "                max3 = max2\n",
    "            max2 = s    \n",
    "        elif s > max3:\n",
    "            max3 = s\n",
    "            \n",
    "        return max1, max2, max3\n",
    "    \n",
    "    max1, max2, max3 = -1, -2, -3\n",
    "\n",
    "    buffer = []\n",
    "    with open(path) as inp:\n",
    "        for line in inp:\n",
    "            if len(line.strip()) == 0:\n",
    "                _sum = sum(buffer)\n",
    "                max1, max2, max3 = update_maxs(_sum, max1, max2, max3)\n",
    "                \n",
    "                buffer = []\n",
    "            else:\n",
    "                buffer.append(int(line.strip()))\n",
    "    \n",
    "    if buffer:\n",
    "        max1, max2, max3 = update_maxs(sum(buffer), max1, max2, max3)\n",
    "    \n",
    "    print(max1, max2, max3)\n",
    "    \n",
    "    return sum((max1, max2, max3))"
   ]
  },
  {
   "cell_type": "code",
   "execution_count": 30,
   "id": "e36f9c02",
   "metadata": {},
   "outputs": [
    {
     "name": "stdout",
     "output_type": "stream",
     "text": [
      "67658 67344 65156\n"
     ]
    },
    {
     "data": {
      "text/plain": [
       "200158"
      ]
     },
     "execution_count": 30,
     "metadata": {},
     "output_type": "execute_result"
    }
   ],
   "source": [
    "solution1b(input_path)"
   ]
  },
  {
   "cell_type": "markdown",
   "id": "8846ba83",
   "metadata": {},
   "source": [
    "# task2"
   ]
  },
  {
   "cell_type": "code",
   "execution_count": 53,
   "id": "702fbe1a",
   "metadata": {},
   "outputs": [],
   "source": [
    "input_path2 = \"aoc_task2_input.txt\""
   ]
  },
  {
   "cell_type": "raw",
   "id": "4e78b30f",
   "metadata": {},
   "source": [
    "A for Rock, B for Paper, and C for Scissors. The second column--\" Suddenly, the Elf is called away to help with someone's tent.\n",
    "\n",
    "The second column, you reason, must be what you should play in response: X for Rock, Y for Paper, and Z for Scissors. Winning every time would be suspicious, so the responses must have been carefully chosen."
   ]
  },
  {
   "cell_type": "code",
   "execution_count": 75,
   "id": "c1490435",
   "metadata": {},
   "outputs": [],
   "source": [
    "def solution2(path):\n",
    "    Rock = \"Rock\"\n",
    "    Paper = \"Paper\"\n",
    "    Scissors = \"Scissors\"\n",
    "    \n",
    "    scores = dict(\n",
    "        Rock=1,\n",
    "        Paper=2,\n",
    "        Scissors=3\n",
    "    )\n",
    "    \n",
    "    first_hand = dict(A=Rock, B=Paper, C=Scissors)\n",
    "    second_hand = dict(X=Rock, Y=Paper, Z=Scissors)\n",
    "    \n",
    "    loose = 0\n",
    "    draw = 3\n",
    "    win = 6\n",
    "    \n",
    "    rules = dict(\n",
    "        Rock=dict(Paper=loose, Scissors=win, Rock=draw),\n",
    "        Paper=dict(Paper=draw, Rock=win, Scissors=loose),\n",
    "        Scissors=dict(Scissors=draw, Rock=loose, Paper=win)\n",
    "    )\n",
    "    \n",
    "    total_score = 0\n",
    "#     inp = \"\"\"A Y\\nB X\\nC Z\"\"\"\n",
    "    with open(path) as inp:\n",
    "        for line in inp: #.split(\"\\n\"):\n",
    "#             print(line)\n",
    "            if line:\n",
    "                f, s = line.strip().split()\n",
    "                f = first_hand[f]\n",
    "                s = second_hand[s]\n",
    "            \n",
    "                score = scores[s] + rules[s][f]\n",
    "\n",
    "            total_score += score\n",
    "    \n",
    "    return total_score"
   ]
  },
  {
   "cell_type": "code",
   "execution_count": 76,
   "id": "41b6e53a",
   "metadata": {},
   "outputs": [
    {
     "data": {
      "text/plain": [
       "10994"
      ]
     },
     "execution_count": 76,
     "metadata": {},
     "output_type": "execute_result"
    }
   ],
   "source": [
    "solution2(input_path2)"
   ]
  },
  {
   "cell_type": "raw",
   "id": "1414ef60",
   "metadata": {},
   "source": [
    "X means you need to lose, Y means you need to end the round in a draw, and Z means you need to win. Good luck!\""
   ]
  },
  {
   "cell_type": "code",
   "execution_count": 83,
   "id": "a7413c61",
   "metadata": {},
   "outputs": [],
   "source": [
    "def solution2b(path):\n",
    "    Rock = \"Rock\"\n",
    "    Paper = \"Paper\"\n",
    "    Scissors = \"Scissors\"\n",
    "    \n",
    "    item_scores = dict(\n",
    "        Rock=1,\n",
    "        Paper=2,\n",
    "        Scissors=3\n",
    "    )\n",
    "    \n",
    "    first_hand = dict(A=Rock, B=Paper, C=Scissors)\n",
    "    \n",
    "    lose = 0\n",
    "    draw = 3\n",
    "    win = 6\n",
    "    \n",
    "    decisions = dict(X=lose, Y=draw, Z=win)\n",
    "    mapping = {0:\"lose\", 3:\"draw\", 6:\"win\"}\n",
    "    \n",
    "#     rules = dict(\n",
    "#         Rock=dict(Paper=lose, Scissors=win, Rock=draw),\n",
    "#         Paper=dict(Paper=draw, Rock=win, Scissors=lose),\n",
    "#         Scissors=dict(Scissors=draw, Rock=loose, Paper=win)\n",
    "#     )\n",
    "    \n",
    "    rules = dict(\n",
    "        Rock=dict(lose=Scissors, win=Paper, draw=Rock),\n",
    "        Paper=dict(draw=Paper, win=Scissors, lose=Rock),\n",
    "        Scissors=dict(draw=Scissors, lose=Paper, win=Rock)\n",
    "    )\n",
    "    \n",
    "    total_score = 0\n",
    "    with open(path) as inp:\n",
    "        for line in inp:\n",
    "            if line:\n",
    "                f, d = line.strip().split()\n",
    "                f = first_hand[f]\n",
    "                d_score = decisions[d]\n",
    "                action = mapping[d_score]\n",
    "            \n",
    "                score = d_score + item_scores[rules[f][action]]\n",
    "\n",
    "            total_score += score\n",
    "    \n",
    "    return total_score"
   ]
  },
  {
   "cell_type": "code",
   "execution_count": 84,
   "id": "9a0e6969",
   "metadata": {},
   "outputs": [
    {
     "data": {
      "text/plain": [
       "12526"
      ]
     },
     "execution_count": 84,
     "metadata": {},
     "output_type": "execute_result"
    }
   ],
   "source": [
    "solution2b(input_path2)"
   ]
  },
  {
   "cell_type": "markdown",
   "id": "a369e3a3",
   "metadata": {},
   "source": [
    "# task3"
   ]
  },
  {
   "cell_type": "code",
   "execution_count": 97,
   "id": "c87b9172",
   "metadata": {},
   "outputs": [],
   "source": [
    "path3 = Path(\"./aoc_task3_input.txt\")\n",
    "\n",
    "def solution3(p):\n",
    "    def mapping_between_symbols(f, l, step=0):\n",
    "        return {chr(num):num-ord(f)+1+step for num in range(ord(f), ord(l)+1)}\n",
    "\n",
    "    priorities = mapping_between_symbols(\"a\", \"z\")\n",
    "    priorities.update(mapping_between_symbols(\"A\", \"Z\", len(priorities)))\n",
    "    total_priority_count = 0\n",
    "    \n",
    "    with open(p) as inp:\n",
    "        for line in inp:\n",
    "            f_comp, s_comp = line[:len(line)//2], line[len(line)//2:]\n",
    "            common_chrs = set(f_comp) & set(s_comp)\n",
    "            \n",
    "            for ch in common_chrs:\n",
    "                total_priority_count += priorities[ch]\n",
    "                \n",
    "    return total_priority_count"
   ]
  },
  {
   "cell_type": "code",
   "execution_count": 98,
   "id": "a91b1fbb",
   "metadata": {},
   "outputs": [
    {
     "data": {
      "text/plain": [
       "7727"
      ]
     },
     "execution_count": 98,
     "metadata": {},
     "output_type": "execute_result"
    }
   ],
   "source": [
    "solution3(path3)"
   ]
  },
  {
   "cell_type": "code",
   "execution_count": 399,
   "id": "f7be4b12",
   "metadata": {},
   "outputs": [],
   "source": [
    "def solution3b(p):\n",
    "    def mapping_between_symbols(f, l, step=0):\n",
    "        return {chr(num):num-ord(f)+1+step for num in range(ord(f), ord(l)+1)}\n",
    "\n",
    "    priorities = mapping_between_symbols(\"a\", \"z\")\n",
    "    priorities.update(mapping_between_symbols(\"A\", \"Z\", len(priorities)))\n",
    "    total_priority_count = 0\n",
    "    \n",
    "    with open(p) as inp:\n",
    "        buffer = []\n",
    "        for i, line in enumerate(inp):\n",
    "            if (i+1) % 3 == 0:\n",
    "                buffer.append(line.strip())\n",
    "                assert len(buffer) == 3, f\"{i} - {len(buffer)}\"\n",
    "                for j, subline in enumerate(buffer):\n",
    "                    if j == 0:\n",
    "                        common_chrs = set(subline)\n",
    "                    else:\n",
    "                        common_chrs &= set(subline)\n",
    "                \n",
    "                buffer = []\n",
    "                for ch in common_chrs:\n",
    "                    total_priority_count += priorities[ch]\n",
    "            else:\n",
    "                buffer.append(line.strip())\n",
    "    \n",
    "    if buffer:\n",
    "        assert len(buffer) == 3\n",
    "        for j, subline in enumerate(buffer):\n",
    "            if j == 0:\n",
    "                common_chrs = set(subline)\n",
    "            else:\n",
    "                common_chrs &= set(subline)\n",
    "    \n",
    "    return total_priority_count"
   ]
  },
  {
   "cell_type": "code",
   "execution_count": 400,
   "id": "0265a473",
   "metadata": {},
   "outputs": [
    {
     "data": {
      "text/plain": [
       "2609"
      ]
     },
     "execution_count": 400,
     "metadata": {},
     "output_type": "execute_result"
    }
   ],
   "source": [
    "solution3b(path3)"
   ]
  },
  {
   "cell_type": "markdown",
   "id": "af100a5f",
   "metadata": {},
   "source": [
    "# task4"
   ]
  },
  {
   "cell_type": "code",
   "execution_count": 127,
   "id": "7b9f6d94",
   "metadata": {},
   "outputs": [],
   "source": [
    "path4 = Path(\"./aoc_task4_input.txt\")"
   ]
  },
  {
   "cell_type": "code",
   "execution_count": 131,
   "id": "421fe8b6",
   "metadata": {},
   "outputs": [],
   "source": [
    "def solution4(p):\n",
    "    def extract_range(s):\n",
    "        l, u = s.split(\"-\")\n",
    "        l = int(l)\n",
    "        u = int(u)\n",
    "        return l, u\n",
    "    \n",
    "    def check_inclusion(this, those):\n",
    "        return this[0] <= those[0] and those[1] <= this[1]\n",
    "        \n",
    "    count = 0\n",
    "    \n",
    "    with open(p) as inp:\n",
    "        for line in inp:\n",
    "            fp, sp = line.split(\",\")\n",
    "            fp = extract_range(fp)\n",
    "            sp = extract_range(sp)\n",
    "            \n",
    "            if check_inclusion(fp, sp):\n",
    "                count += 1\n",
    "            elif check_inclusion(sp, fp):\n",
    "                count += 1\n",
    "                \n",
    "    return count"
   ]
  },
  {
   "cell_type": "code",
   "execution_count": 132,
   "id": "45ecf549",
   "metadata": {},
   "outputs": [
    {
     "data": {
      "text/plain": [
       "567"
      ]
     },
     "execution_count": 132,
     "metadata": {},
     "output_type": "execute_result"
    }
   ],
   "source": [
    "solution4(path4)"
   ]
  },
  {
   "cell_type": "code",
   "execution_count": 139,
   "id": "4d53cd23",
   "metadata": {},
   "outputs": [],
   "source": [
    "def solution4b(p):\n",
    "    from collections import Counter\n",
    "    \n",
    "    def extract_range(s):\n",
    "        l, u = s.split(\"-\")\n",
    "        l = int(l)\n",
    "        u = int(u)\n",
    "        return range(l, u+1)\n",
    "    \n",
    "    def check_inclusion(this, those):\n",
    "        cntr = Counter(this)\n",
    "        cntr.update(Counter(those))\n",
    "        return cntr.most_common(1)[0][1] > 1\n",
    "        \n",
    "        \n",
    "    count = 0\n",
    "    \n",
    "    with open(p) as inp:\n",
    "        for line in inp:\n",
    "            fp, sp = line.split(\",\")\n",
    "            fp = extract_range(fp)\n",
    "            sp = extract_range(sp)\n",
    "            \n",
    "            count += check_inclusion(fp, sp)\n",
    "                \n",
    "    return count"
   ]
  },
  {
   "cell_type": "code",
   "execution_count": 140,
   "id": "28959810",
   "metadata": {},
   "outputs": [
    {
     "data": {
      "text/plain": [
       "907"
      ]
     },
     "execution_count": 140,
     "metadata": {},
     "output_type": "execute_result"
    }
   ],
   "source": [
    "solution4b(path4)"
   ]
  },
  {
   "cell_type": "markdown",
   "id": "6f6bc3f5",
   "metadata": {},
   "source": [
    "# task5"
   ]
  },
  {
   "cell_type": "code",
   "execution_count": 142,
   "id": "ca4b3f37",
   "metadata": {},
   "outputs": [],
   "source": [
    "path5 = Path(\"./aoc_task5_input.txt\")"
   ]
  },
  {
   "cell_type": "code",
   "execution_count": 153,
   "id": "03c6886d",
   "metadata": {},
   "outputs": [],
   "source": [
    "from collections import Counter"
   ]
  },
  {
   "cell_type": "code",
   "execution_count": 285,
   "id": "b2db58b8",
   "metadata": {},
   "outputs": [],
   "source": [
    "def solution5(p):\n",
    "    import re\n",
    "    \n",
    "    clean_pattern = re.compile(\"\\s+\")\n",
    "    numbers_pattern = re.compile(\"[0-9]+\")\n",
    "    \n",
    "    def read_table(lines):\n",
    "        empty_symbol = None\n",
    "        table = []\n",
    "        numbers_row = None\n",
    "        for l in lines:\n",
    "            row = []\n",
    "            buffer = []\n",
    "            i = 0\n",
    "            end = len(l)\n",
    "            while i < end:\n",
    "                ch = l[i]\n",
    "                \n",
    "                if len(buffer) == 3:\n",
    "                    cncted = \"\".join(buffer)\n",
    "                    cleaned = re.sub(clean_pattern, \"\", cncted)\n",
    "                    if len(cleaned) == 0:\n",
    "                        row.append(empty_symbol)\n",
    "                        i += 1\n",
    "                    else:\n",
    "                        cleaned = cleaned.replace(\"[\", \"\").replace(\"]\", \"\")\n",
    "                        if cleaned:\n",
    "                            row.append(cleaned)\n",
    "                        i += 1\n",
    "                    buffer = []\n",
    "        \n",
    "                else:\n",
    "                    buffer.append(ch)\n",
    "                    i += 1\n",
    "            if '1' in row:\n",
    "                numbers_row = row\n",
    "            else:\n",
    "                table.append(row)\n",
    "                row = []\n",
    "                \n",
    "        buckets = [[] for _ in range(len(numbers_row))]\n",
    "        table.reverse()\n",
    "        for row in table:\n",
    "            for j, elem in enumerate(row):\n",
    "                if elem:\n",
    "                    buckets[j].append(elem)\n",
    "        \n",
    "        return buckets\n",
    "    \n",
    "    def do_moves(buckets, amount, from_, to):\n",
    "        while amount > 0:\n",
    "            elem = buckets[from_-1].pop()\n",
    "            buckets[to-1].append(elem)\n",
    "            amount -= 1\n",
    "        return buckets\n",
    "    \n",
    "    def parse_command(line):\n",
    "        amount, from_, to = re.findall(numbers_pattern, line)\n",
    "        return int(amount), int(from_), int(to)\n",
    "    \n",
    "    buffer = []\n",
    "    buckets = None\n",
    "    with open(p) as inp:\n",
    "        for i, line in enumerate(inp):\n",
    "            if buckets is None:\n",
    "                if i > 0 and len(line.strip()) == 0:\n",
    "                    buckets = read_table(buffer)\n",
    "                    continue\n",
    "                else:\n",
    "                    buffer.append(line)\n",
    "            else:\n",
    "                a, f, t = parse_command(line)\n",
    "                buckets = do_moves(buckets, a, f, t)\n",
    "    \n",
    "    top_elements = \"\".join([_[-1] for _ in buckets])\n",
    "    \n",
    "    return top_elements"
   ]
  },
  {
   "cell_type": "code",
   "execution_count": 286,
   "id": "eb4016e4",
   "metadata": {},
   "outputs": [
    {
     "data": {
      "text/plain": [
       "'LJSVLTWQM'"
      ]
     },
     "execution_count": 286,
     "metadata": {},
     "output_type": "execute_result"
    }
   ],
   "source": [
    "solution5(path5)"
   ]
  },
  {
   "cell_type": "raw",
   "id": "416e7640",
   "metadata": {},
   "source": [
    "move 1 from 2 to 1\n",
    "move 3 from 1 to 3\n",
    "move 2 from 2 to 1\n",
    "move 1 from 1 to 2"
   ]
  },
  {
   "cell_type": "code",
   "execution_count": 284,
   "id": "0be797fd",
   "metadata": {},
   "outputs": [
    {
     "name": "stdout",
     "output_type": "stream",
     "text": [
      "[['Z', 'N', 'D'], ['M', 'C'], ['P']]\n",
      "[[], ['M', 'C'], ['P', 'D', 'N', 'Z']]\n",
      "[['C', 'M'], [], ['P', 'D', 'N', 'Z']]\n",
      "[['C'], ['M'], ['P', 'D', 'N', 'Z']]\n"
     ]
    }
   ],
   "source": [
    "buckets_ = [[\"Z\", \"N\"], [\"M\", \"C\", \"D\"], [\"P\"]]    \n",
    "\n",
    "def do_moves(buckets, amount, from_, to):\n",
    "    while amount > 0:\n",
    "        elem = buckets[from_-1].pop()\n",
    "        buckets[to-1].append(elem)\n",
    "        amount -= 1\n",
    "    return buckets\n",
    "    \n",
    "buckets_ = do_moves(buckets_, 1, 2, 1)\n",
    "print(buckets_)\n",
    "\n",
    "    \n",
    "buckets_ = do_moves(buckets_, 3, 1, 3)\n",
    "print(buckets_)\n",
    "\n",
    "    \n",
    "buckets_ = do_moves(buckets_, 2, 2, 1)\n",
    "print(buckets_)\n",
    "\n",
    "buckets_ = do_moves(buckets_, 1, 1, 2)\n",
    "print(buckets_)"
   ]
  },
  {
   "cell_type": "raw",
   "id": "a170bf65",
   "metadata": {},
   "source": [
    "[T] [V]                     [W]    \n",
    "[V] [C] [P] [D]             [B]    \n",
    "[J] [P] [R] [N] [B]         [Z]    \n",
    "[W] [Q] [D] [M] [T]     [L] [T]    \n",
    "[N] [J] [H] [B] [P] [T] [P] [L]    \n",
    "[R] [D] [F] [P] [R] [P] [R] [S] [G]\n",
    "[M] [W] [J] [R] [V] [B] [J] [C] [S]\n",
    "[S] [B] [B] [F] [H] [C] [B] [N] [L]\n",
    " 1   2   3   4   5   6   7   8   9 "
   ]
  },
  {
   "cell_type": "code",
   "execution_count": 289,
   "id": "15b08e08",
   "metadata": {},
   "outputs": [],
   "source": [
    "def solution5b(p):\n",
    "    import re\n",
    "    \n",
    "    clean_pattern = re.compile(\"\\s+\")\n",
    "    numbers_pattern = re.compile(\"[0-9]+\")\n",
    "    \n",
    "    def read_table(lines):\n",
    "        empty_symbol = None\n",
    "        table = []\n",
    "        numbers_row = None\n",
    "        for l in lines:\n",
    "            row = []\n",
    "            buffer = []\n",
    "            i = 0\n",
    "            end = len(l)\n",
    "            while i < end:\n",
    "                ch = l[i]\n",
    "                \n",
    "                if len(buffer) == 3:\n",
    "                    cncted = \"\".join(buffer)\n",
    "                    cleaned = re.sub(clean_pattern, \"\", cncted)\n",
    "                    if len(cleaned) == 0:\n",
    "                        row.append(empty_symbol)\n",
    "                        i += 1\n",
    "                    else:\n",
    "                        cleaned = cleaned.replace(\"[\", \"\").replace(\"]\", \"\")\n",
    "                        if cleaned:\n",
    "                            row.append(cleaned)\n",
    "                        i += 1\n",
    "                    buffer = []\n",
    "        \n",
    "                else:\n",
    "                    buffer.append(ch)\n",
    "                    i += 1\n",
    "            if '1' in row:\n",
    "                numbers_row = row\n",
    "            else:\n",
    "                table.append(row)\n",
    "                row = []\n",
    "                \n",
    "        buckets = [[] for _ in range(len(numbers_row))]\n",
    "        table.reverse()\n",
    "        for row in table:\n",
    "            for j, elem in enumerate(row):\n",
    "                if elem:\n",
    "                    buckets[j].append(elem)\n",
    "        \n",
    "        return buckets\n",
    "    \n",
    "    def do_moves(buckets, amount, from_, to):\n",
    "        buffer = []\n",
    "        while amount > 0:\n",
    "            elem = buckets[from_-1].pop()\n",
    "            buffer.append(elem)\n",
    "            amount -= 1\n",
    "        \n",
    "        buffer.reverse()\n",
    "        for elem in buffer:\n",
    "            buckets[to-1].append(elem)\n",
    "        return buckets\n",
    "    \n",
    "    def parse_command(line):\n",
    "        amount, from_, to = re.findall(numbers_pattern, line)\n",
    "        return int(amount), int(from_), int(to)\n",
    "    \n",
    "    buffer = []\n",
    "    buckets = None\n",
    "    with open(p) as inp:\n",
    "        for i, line in enumerate(inp):\n",
    "            if buckets is None:\n",
    "                if i > 0 and len(line.strip()) == 0:\n",
    "                    buckets = read_table(buffer)\n",
    "                    continue\n",
    "                else:\n",
    "                    buffer.append(line)\n",
    "            else:\n",
    "                a, f, t = parse_command(line)\n",
    "                buckets = do_moves(buckets, a, f, t)\n",
    "    \n",
    "    top_elements = \"\".join([_[-1] for _ in buckets])\n",
    "    \n",
    "    return top_elements"
   ]
  },
  {
   "cell_type": "code",
   "execution_count": 290,
   "id": "3e7ae500",
   "metadata": {},
   "outputs": [
    {
     "data": {
      "text/plain": [
       "'BRQWDBBJM'"
      ]
     },
     "execution_count": 290,
     "metadata": {},
     "output_type": "execute_result"
    }
   ],
   "source": [
    "solution5b(path5)"
   ]
  },
  {
   "cell_type": "markdown",
   "id": "8377788a",
   "metadata": {},
   "source": [
    "# task6"
   ]
  },
  {
   "cell_type": "code",
   "execution_count": 291,
   "id": "1fe94933",
   "metadata": {},
   "outputs": [],
   "source": [
    "path6 = Path(\"./aoc_task6_input.txt\")"
   ]
  },
  {
   "cell_type": "code",
   "execution_count": 322,
   "id": "0f211503",
   "metadata": {},
   "outputs": [],
   "source": [
    "def solution6(p):\n",
    "    with open(p) as inp:\n",
    "        for line in inp:\n",
    "            signal = line\n",
    "            \n",
    "    buffer = set()\n",
    "    for i, ch in enumerate(signal):\n",
    "        if len(buffer) == 4:\n",
    "            print(signal[i-10:i])\n",
    "            return i\n",
    "        else:\n",
    "            if ch in buffer:\n",
    "                buffer = {ch}\n",
    "            else:\n",
    "                buffer.add(ch)\n",
    "        "
   ]
  },
  {
   "cell_type": "code",
   "execution_count": 323,
   "id": "db6b7575",
   "metadata": {},
   "outputs": [
    {
     "name": "stdout",
     "output_type": "stream",
     "text": [
      "ggggzhhfvd\n"
     ]
    },
    {
     "data": {
      "text/plain": [
       "1142"
      ]
     },
     "execution_count": 323,
     "metadata": {},
     "output_type": "execute_result"
    }
   ],
   "source": [
    "solution6(path6)"
   ]
  },
  {
   "cell_type": "raw",
   "id": "c6c5d56c",
   "metadata": {},
   "source": [
    "That's not the right answer; your answer is too high. If you're stuck, make sure you're using the full input data; there are also some general tips on the about page, or you can ask for hints on the subreddit. Please wait one minute before trying again. (You guessed 1143.) [Return to Day 6]"
   ]
  },
  {
   "cell_type": "code",
   "execution_count": 320,
   "id": "d2e64a54",
   "metadata": {},
   "outputs": [],
   "source": [
    "def solution6b(p):\n",
    "    with open(p) as inp:\n",
    "        for line in inp:\n",
    "            signal = line\n",
    "            \n",
    "    buffer = set()\n",
    "    for i, ch in enumerate(signal):\n",
    "        if len(buffer) == 14:\n",
    "            print(signal[i-14:i], len(signal[i-14:i]))\n",
    "            return i\n",
    "        else:\n",
    "            if ch in buffer:\n",
    "                buffer = {ch}\n",
    "            else:\n",
    "                buffer.add(ch)"
   ]
  },
  {
   "cell_type": "code",
   "execution_count": 321,
   "id": "22ff989e",
   "metadata": {},
   "outputs": [
    {
     "name": "stdout",
     "output_type": "stream",
     "text": [
      "tnfsdzpvcgbjqw 14\n"
     ]
    },
    {
     "data": {
      "text/plain": [
       "2803"
      ]
     },
     "execution_count": 321,
     "metadata": {},
     "output_type": "execute_result"
    }
   ],
   "source": [
    "solution6b(path6)"
   ]
  },
  {
   "cell_type": "raw",
   "id": "deb893fd",
   "metadata": {},
   "source": [
    "That's not the right answer; your answer is too low. If you're stuck, make sure you're using the full input data; there are also some general tips on the about page, or you can ask for hints on the subreddit. Please wait one minute before trying again. (You guessed 2802.)"
   ]
  },
  {
   "cell_type": "code",
   "execution_count": 315,
   "id": "4775fd68",
   "metadata": {},
   "outputs": [
    {
     "name": "stdout",
     "output_type": "stream",
     "text": [
      "14\n"
     ]
    },
    {
     "data": {
      "text/plain": [
       "'jwzlrfnpqdbhtm'"
      ]
     },
     "execution_count": 315,
     "metadata": {},
     "output_type": "execute_result"
    }
   ],
   "source": [
    "s = \"zcfzfwzzqfrljwzlrfnpqdbhtmscgvjw\"\n",
    "print(len(set(s[26-14:26])))\n",
    "s[26-14:26]"
   ]
  },
  {
   "cell_type": "markdown",
   "id": "79505927",
   "metadata": {},
   "source": [
    "# task7"
   ]
  },
  {
   "cell_type": "code",
   "execution_count": 324,
   "id": "960c9211",
   "metadata": {},
   "outputs": [],
   "source": [
    "path7 = Path(\"./aoc_task7_input.txt\")"
   ]
  },
  {
   "cell_type": "code",
   "execution_count": 347,
   "id": "f23aad21",
   "metadata": {},
   "outputs": [
    {
     "data": {
      "text/plain": [
       "'cd abc'"
      ]
     },
     "execution_count": 347,
     "metadata": {},
     "output_type": "execute_result"
    }
   ],
   "source": [
    "ACTION_PREFIX = \"$\"\n",
    "\"$ cd abc\".split(ACTION_PREFIX, 1)[1].strip()"
   ]
  },
  {
   "cell_type": "code",
   "execution_count": 390,
   "id": "677aadc2",
   "metadata": {},
   "outputs": [],
   "source": [
    "def solution7(p):\n",
    "    from collections import defaultdict\n",
    "    \n",
    "    LIMIT_SIZE = 100000\n",
    "    CD = \"cd\"\n",
    "    LS = \"ls\"\n",
    "    BACK = \"..\"\n",
    "    ROOT = \"/\"\n",
    "    ACTION_PREFIX = \"$\"\n",
    "    DIR_PREFIX = \"dir\"\n",
    "    \n",
    "    def check_num(string):\n",
    "        return max(string) <= \"9\" and min(string) >= \"0\"\n",
    "    \n",
    "    def parse_action(line):\n",
    "        action = line.split(ACTION_PREFIX, 1)[1].strip()\n",
    "        if action == LS:\n",
    "            return LS\n",
    "        elif action.startswith(CD):\n",
    "            return (CD, action.split()[1])\n",
    "        \n",
    "    def do_ls(current_path, lines_iterator, tree):\n",
    "        while True:\n",
    "            try:\n",
    "                line = next(lines_iterator)\n",
    "                if line.startswith(ACTION_PREFIX):\n",
    "                    return line, lines_iterator, tree\n",
    "                else:\n",
    "                    obj_type, name = line.split()\n",
    "                    if check_num(obj_type):\n",
    "                        tree[f\"{'/'.join(current_path)}/{name}\"] = int(obj_type)\n",
    "                    else:\n",
    "                        tree[f\"{'/'.join(current_path)}/{name}\"] = obj_type\n",
    "            except StopIteration:\n",
    "                return None\n",
    "    \n",
    "    def do_cd(current_path, to):\n",
    "        if to == BACK:\n",
    "            current_path.pop()\n",
    "        else:\n",
    "            current_path.append(to)\n",
    "        \n",
    "        return current_path\n",
    "        \n",
    "    def do_action(action, current_path, lines_iterator, tree):\n",
    "        if action == LS:\n",
    "            return do_ls(current_path, lines_iterator, tree)\n",
    "        else:\n",
    "            return do_cd(current_path, action[1])\n",
    "            \n",
    "    current_path = []\n",
    "    tree = dict()\n",
    "    skip_iteration = False\n",
    "    \n",
    "    with open(p) as inp:\n",
    "        while True:\n",
    "            if skip_iteration is False:\n",
    "                try:\n",
    "                    line = next(inp)\n",
    "                except StopIteration:\n",
    "                    break\n",
    "                \n",
    "            signal = line\n",
    "            \n",
    "            if signal.startswith(ACTION_PREFIX):\n",
    "                action = parse_action(signal)\n",
    "                result = do_action(action, current_path, inp, tree)\n",
    "            \n",
    "            if isinstance(result, list):\n",
    "                skip_iteration = False\n",
    "            elif isinstance(result, tuple):\n",
    "                line, inp, tree = result\n",
    "                skip_iteration = True\n",
    "            else:\n",
    "                break\n",
    "                \n",
    "    dir_sizes = defaultdict(int)\n",
    "    for k, v in sorted(tree.items(), key=lambda _: _[0]):\n",
    "        if v == \"dir\":\n",
    "            continue\n",
    "        folder = k.rsplit(\"/\", 1)[0]\n",
    "        while folder != \"/\":\n",
    "            dir_sizes[folder] += v\n",
    "            folder = folder.rsplit(\"/\", 1)[0]\n",
    "        assert folder == \"/\"\n",
    "        dir_sizes[folder] += v\n",
    "        \n",
    "    total_sum = 0\n",
    "    for f, s in dir_sizes.items():\n",
    "        if s <= LIMIT_SIZE:\n",
    "            total_sum += s\n",
    "                \n",
    "    return total_sum"
   ]
  },
  {
   "cell_type": "code",
   "execution_count": 391,
   "id": "9ffd225f",
   "metadata": {},
   "outputs": [
    {
     "data": {
      "text/plain": [
       "1423358"
      ]
     },
     "execution_count": 391,
     "metadata": {},
     "output_type": "execute_result"
    }
   ],
   "source": [
    "solution7(path7)"
   ]
  },
  {
   "cell_type": "code",
   "execution_count": 395,
   "id": "700c30c0",
   "metadata": {},
   "outputs": [],
   "source": [
    "def solution7b(p):\n",
    "    from collections import defaultdict\n",
    "    \n",
    "    LIMIT_SIZE = 100000\n",
    "    CD = \"cd\"\n",
    "    LS = \"ls\"\n",
    "    BACK = \"..\"\n",
    "    ROOT = \"/\"\n",
    "    ACTION_PREFIX = \"$\"\n",
    "    DIR_PREFIX = \"dir\"\n",
    "    \n",
    "    def check_num(string):\n",
    "        return max(string) <= \"9\" and min(string) >= \"0\"\n",
    "    \n",
    "    def parse_action(line):\n",
    "        action = line.split(ACTION_PREFIX, 1)[1].strip()\n",
    "        if action == LS:\n",
    "            return LS\n",
    "        elif action.startswith(CD):\n",
    "            return (CD, action.split()[1])\n",
    "        \n",
    "    def do_ls(current_path, lines_iterator, tree):\n",
    "        while True:\n",
    "            try:\n",
    "                line = next(lines_iterator)\n",
    "                if line.startswith(ACTION_PREFIX):\n",
    "                    return line, lines_iterator, tree\n",
    "                else:\n",
    "                    obj_type, name = line.split()\n",
    "                    if check_num(obj_type):\n",
    "                        tree[f\"{'/'.join(current_path)}/{name}\"] = int(obj_type)\n",
    "                    else:\n",
    "                        tree[f\"{'/'.join(current_path)}/{name}\"] = obj_type\n",
    "            except StopIteration:\n",
    "                return None\n",
    "    \n",
    "    def do_cd(current_path, to):\n",
    "        if to == BACK:\n",
    "            current_path.pop()\n",
    "        else:\n",
    "            current_path.append(to)\n",
    "        \n",
    "        return current_path\n",
    "        \n",
    "    def do_action(action, current_path, lines_iterator, tree):\n",
    "        if action == LS:\n",
    "            return do_ls(current_path, lines_iterator, tree)\n",
    "        else:\n",
    "            return do_cd(current_path, action[1])\n",
    "            \n",
    "    current_path = []\n",
    "    tree = dict()\n",
    "    skip_iteration = False\n",
    "    \n",
    "    with open(p) as inp:\n",
    "        while True:\n",
    "            if skip_iteration is False:\n",
    "                try:\n",
    "                    line = next(inp)\n",
    "                except StopIteration:\n",
    "                    break\n",
    "                \n",
    "            signal = line\n",
    "            \n",
    "            if signal.startswith(ACTION_PREFIX):\n",
    "                action = parse_action(signal)\n",
    "                result = do_action(action, current_path, inp, tree)\n",
    "            \n",
    "            if isinstance(result, list):\n",
    "                skip_iteration = False\n",
    "            elif isinstance(result, tuple):\n",
    "                line, inp, tree = result\n",
    "                skip_iteration = True\n",
    "            else:\n",
    "                break\n",
    "                \n",
    "    dir_sizes = defaultdict(int)\n",
    "    for k, v in sorted(tree.items(), key=lambda _: _[0]):\n",
    "        if v == \"dir\":\n",
    "            continue\n",
    "        folder = k.rsplit(\"/\", 1)[0]\n",
    "        while folder != \"/\":\n",
    "            dir_sizes[folder] += v\n",
    "            folder = folder.rsplit(\"/\", 1)[0]\n",
    "        assert folder == \"/\"\n",
    "        dir_sizes[folder] += v\n",
    "        \n",
    "    TOTAL_DISC_SIZE = 70000000\n",
    "    NEED_TO_BE_CLEANED_UP = 30000000\n",
    "        \n",
    "    used_amount = dir_sizes[\"/\"]\n",
    "    to_set_free_amount = NEED_TO_BE_CLEANED_UP - (TOTAL_DISC_SIZE - used_amount)\n",
    "    \n",
    "    min_size = TOTAL_DISC_SIZE\n",
    "    for k, v in dir_sizes.items():\n",
    "        if v >= to_set_free_amount:\n",
    "            min_size = min(min_size, v)\n",
    "                \n",
    "    return min_size"
   ]
  },
  {
   "cell_type": "code",
   "execution_count": 396,
   "id": "f7454b3f",
   "metadata": {},
   "outputs": [
    {
     "data": {
      "text/plain": [
       "545729"
      ]
     },
     "execution_count": 396,
     "metadata": {},
     "output_type": "execute_result"
    }
   ],
   "source": [
    "solution7b(path7)"
   ]
  },
  {
   "cell_type": "code",
   "execution_count": null,
   "id": "80ccc535",
   "metadata": {},
   "outputs": [],
   "source": []
  }
 ],
 "metadata": {
  "kernelspec": {
   "display_name": "Python 3 (ipykernel)",
   "language": "python",
   "name": "python3"
  },
  "language_info": {
   "codemirror_mode": {
    "name": "ipython",
    "version": 3
   },
   "file_extension": ".py",
   "mimetype": "text/x-python",
   "name": "python",
   "nbconvert_exporter": "python",
   "pygments_lexer": "ipython3",
   "version": "3.10.4"
  },
  "toc": {
   "base_numbering": 1,
   "nav_menu": {},
   "number_sections": true,
   "sideBar": true,
   "skip_h1_title": false,
   "title_cell": "Table of Contents",
   "title_sidebar": "Contents",
   "toc_cell": false,
   "toc_position": {},
   "toc_section_display": true,
   "toc_window_display": false
  },
  "varInspector": {
   "cols": {
    "lenName": 16,
    "lenType": 16,
    "lenVar": 40
   },
   "kernels_config": {
    "python": {
     "delete_cmd_postfix": "",
     "delete_cmd_prefix": "del ",
     "library": "var_list.py",
     "varRefreshCmd": "print(var_dic_list())"
    },
    "r": {
     "delete_cmd_postfix": ") ",
     "delete_cmd_prefix": "rm(",
     "library": "var_list.r",
     "varRefreshCmd": "cat(var_dic_list()) "
    }
   },
   "types_to_exclude": [
    "module",
    "function",
    "builtin_function_or_method",
    "instance",
    "_Feature"
   ],
   "window_display": false
  }
 },
 "nbformat": 4,
 "nbformat_minor": 5
}
